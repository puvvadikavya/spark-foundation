{
  "nbformat": 4,
  "nbformat_minor": 0,
  "metadata": {
    "colab": {
      "name": "Untitled3.ipynb",
      "provenance": [],
      "collapsed_sections": []
    },
    "kernelspec": {
      "name": "python3",
      "display_name": "Python 3"
    },
    "language_info": {
      "name": "python"
    }
  },
  "cells": [
    {
      "cell_type": "markdown",
      "source": [
        "\n",
        "THE SPARKS FOUNDATION\n",
        "\n",
        "NAME:PUVVADI KAVYA\n",
        "\n",
        "DATA SCIENCE AND BUSINESS ANALYTICS\n",
        "\n",
        "TASK 7:STOCK MARKET PREDICTION USING NUMERICAL AND TEXUAL ANALYSIS\n",
        "\n",
        "OBJECTIVE:create a hybrid model for stock price/performance prediction using numerical analysis of historical stock prices and sentimental analysis of news headlines\n",
        "\n",
        "STOCK MARKET PREDICTION USING NUMERICAL AND TEXUAL ANALYSIS"
      ],
      "metadata": {
        "id": "sJMtPOgP6t-d"
      }
    },
    {
      "cell_type": "code",
      "source": [
        "import pandas as pd\n",
        "import numpy as np\n",
        "import matplotlib.pyplot as plt\n",
        "import seaborn as sns"
      ],
      "metadata": {
        "id": "QkHOwUIl6yod"
      },
      "execution_count": null,
      "outputs": []
    },
    {
      "cell_type": "code",
      "source": [
        "df1=pd.read_csv(\"/content/india-news-headlines.csv\")"
      ],
      "metadata": {
        "id": "Bk8sTU5Ef2vw"
      },
      "execution_count": null,
      "outputs": []
    },
    {
      "cell_type": "code",
      "source": [
        "df1.head()"
      ],
      "metadata": {
        "id": "OMySOcPq-wRT"
      },
      "execution_count": null,
      "outputs": []
    },
    {
      "cell_type": "code",
      "source": [
        "df1.info()"
      ],
      "metadata": {
        "id": "UBvXY4BE-zvj"
      },
      "execution_count": null,
      "outputs": []
    },
    {
      "cell_type": "code",
      "source": [
        "df1.value_counts()"
      ],
      "metadata": {
        "id": "GL7A7vHw7f1f"
      },
      "execution_count": null,
      "outputs": []
    },
    {
      "cell_type": "code",
      "source": [
        "df1.shape"
      ],
      "metadata": {
        "id": "sMTBiKH-7oc4"
      },
      "execution_count": null,
      "outputs": []
    },
    {
      "cell_type": "markdown",
      "source": [
        "Loading Textual data"
      ],
      "metadata": {
        "id": "zSIoXnoPliRt"
      }
    },
    {
      "cell_type": "code",
      "source": [
        "df2=pd.read_csv(\"/content/Combined_News_DJIA.csv\")"
      ],
      "metadata": {
        "id": "mE1hZMD9lcp-"
      },
      "execution_count": null,
      "outputs": []
    },
    {
      "cell_type": "markdown",
      "source": [
        "Loading Numerical data"
      ],
      "metadata": {
        "id": "U47WJJV0l6mf"
      }
    },
    {
      "cell_type": "code",
      "source": [
        "df2.head()"
      ],
      "metadata": {
        "id": "EdciQmJf7uJp"
      },
      "execution_count": null,
      "outputs": []
    },
    {
      "cell_type": "code",
      "source": [
        "df3=pd.read_csv(\"/content/upload_DJIA_table.csv\")"
      ],
      "metadata": {
        "id": "nmTtlC-QlvgJ"
      },
      "execution_count": null,
      "outputs": []
    },
    {
      "cell_type": "code",
      "source": [
        "df3.head()"
      ],
      "metadata": {
        "id": "O9jSzq7z8qce"
      },
      "execution_count": null,
      "outputs": []
    },
    {
      "cell_type": "markdown",
      "source": [
        "As the top news is from 1 to 25 we will combine them into one"
      ],
      "metadata": {
        "id": "Iv_f-jW7V5JA"
      }
    },
    {
      "cell_type": "code",
      "source": [
        "#combine the top news headlines\n",
        "headlines=[]\n",
        "for row in range(0,len(df2.index)):\n",
        "  headlines.append(''.join(str(x) for x in df2.iloc[row,2:27]))"
      ],
      "metadata": {
        "id": "Y9_s0QP2mEkS"
      },
      "execution_count": null,
      "outputs": []
    },
    {
      "cell_type": "code",
      "source": [
        "headlines[1]"
      ],
      "metadata": {
        "id": "vlFE7QLg8V4W"
      },
      "execution_count": null,
      "outputs": []
    },
    {
      "cell_type": "markdown",
      "source": [
        "Now we will clean the combined headline"
      ],
      "metadata": {
        "id": "e77Nq3fEXq7t"
      }
    },
    {
      "cell_type": "code",
      "source": [
        "import re\n",
        "clean_headlines=[]\n",
        "for i in range(0,len(headlines)):\n",
        "  clean_headlines.append(re.sub(\"b[(')]+\",'',headlines[i]))\n",
        "  clean_headlines[i]=re.sub('b[(\")]+','',clean_headlines[i])\n",
        "  clean_headlines[i]=re.sub(\"\\'\",'',clean_headlines[i])"
      ],
      "metadata": {
        "id": "XBLWRkTrXpHU"
      },
      "execution_count": null,
      "outputs": []
    },
    {
      "cell_type": "code",
      "source": [
        "clean_headlines[i]"
      ],
      "metadata": {
        "id": "vwk9OZpT83tn"
      },
      "execution_count": null,
      "outputs": []
    },
    {
      "cell_type": "code",
      "source": [
        "#Add the clean headlines to the data set\n",
        "df2['Combined_News']=clean_headlines"
      ],
      "metadata": {
        "id": "EFjebuXuZZWn"
      },
      "execution_count": null,
      "outputs": []
    },
    {
      "cell_type": "code",
      "source": [
        "df2.head()"
      ],
      "metadata": {
        "id": "0Xhukcvn8-sT"
      },
      "execution_count": null,
      "outputs": []
    },
    {
      "cell_type": "code",
      "source": [
        "print(df2.columns)"
      ],
      "metadata": {
        "id": "zoxjODvA9Cbg"
      },
      "execution_count": null,
      "outputs": []
    },
    {
      "cell_type": "code",
      "source": [
        "df2.isnull().sum()"
      ],
      "metadata": {
        "id": "N_-M9w6k9KK3"
      },
      "execution_count": null,
      "outputs": []
    },
    {
      "cell_type": "code",
      "source": [
        "all_headlines=''.join(df2['Combined_News'].str.lower())"
      ],
      "metadata": {
        "id": "CdniATRF9ObQ"
      },
      "execution_count": null,
      "outputs": []
    },
    {
      "cell_type": "code",
      "source": [
        "df2['Combined_News'].str.len().hist()\n",
        "plt.figure(figsize=(6,4))\n",
        "plt.show()"
      ],
      "metadata": {
        "id": "T8yRwYp_9Sc-"
      },
      "execution_count": null,
      "outputs": []
    },
    {
      "cell_type": "markdown",
      "source": [
        "Upload DJIA_table.csv"
      ],
      "metadata": {
        "id": "oP7ZzFKBbQIT"
      }
    },
    {
      "cell_type": "code",
      "source": [
        "df3=pd.read_csv(\"/content/upload_DJIA_table.csv\")"
      ],
      "metadata": {
        "id": "cXJ9ATmNyes5"
      },
      "execution_count": null,
      "outputs": []
    },
    {
      "cell_type": "code",
      "source": [
        "df3.head()"
      ],
      "metadata": {
        "id": "9s5M0ujo9XdA"
      },
      "execution_count": null,
      "outputs": []
    },
    {
      "cell_type": "code",
      "source": [
        "df3.describe()"
      ],
      "metadata": {
        "id": "AbzJh-7X9aVE"
      },
      "execution_count": null,
      "outputs": []
    },
    {
      "cell_type": "code",
      "source": [
        "df3.info()"
      ],
      "metadata": {
        "id": "cqcQIizu9eAg"
      },
      "execution_count": null,
      "outputs": []
    },
    {
      "cell_type": "code",
      "source": [
        "df3.isnull().sum()"
      ],
      "metadata": {
        "id": "G2VgDN-P9g9k"
      },
      "execution_count": null,
      "outputs": []
    },
    {
      "cell_type": "markdown",
      "source": [
        "Visualizing the dataset"
      ],
      "metadata": {
        "id": "kHVB3igYcNoz"
      }
    },
    {
      "cell_type": "code",
      "source": [
        "#stacked graph\n",
        "import numpy as np\n",
        "import matplotlib.pyplot as plt\n",
        "a,b=100,10\n",
        "x=a+b*np.random.randn(200,3)\n",
        "n,bins,patches=plt.hist(x,20,stacked=True)\n",
        "plt.show()"
      ],
      "metadata": {
        "id": "84k3Renn9m6y"
      },
      "execution_count": null,
      "outputs": []
    },
    {
      "cell_type": "code",
      "source": [
        "#splitting data into train and valid\n",
        "train=df3[:700]\n",
        "valid=df3[700:]"
      ],
      "metadata": {
        "id": "VziXuFmh9qtz"
      },
      "execution_count": null,
      "outputs": []
    },
    {
      "cell_type": "code",
      "source": [
        "train.head()"
      ],
      "metadata": {
        "id": "3VOgxL9m9v7g"
      },
      "execution_count": null,
      "outputs": []
    },
    {
      "cell_type": "code",
      "source": [
        "training=train['Close']\n",
        "validation=valid['Close']"
      ],
      "metadata": {
        "id": "zMblklfCdHZT"
      },
      "execution_count": null,
      "outputs": []
    },
    {
      "cell_type": "code",
      "source": [
        "training.head()"
      ],
      "metadata": {
        "id": "BmpxC3hi9zo3"
      },
      "execution_count": null,
      "outputs": []
    },
    {
      "cell_type": "markdown",
      "source": [
        "Using Vader model for sentiment analysis"
      ],
      "metadata": {
        "id": "6WEDatQtdUMf"
      }
    },
    {
      "cell_type": "code",
      "source": [
        "pip install vaderSentiment"
      ],
      "metadata": {
        "colab": {
          "base_uri": "https://localhost:8080/"
        },
        "id": "HMTZElv-dO8z",
        "outputId": "fab3568d-f4de-41a3-ad0b-b05fe59384cf"
      },
      "execution_count": null,
      "outputs": [
        {
          "output_type": "stream",
          "name": "stdout",
          "text": [
            "Requirement already satisfied: vaderSentiment in /usr/local/lib/python3.7/dist-packages (3.3.2)\n",
            "Requirement already satisfied: requests in /usr/local/lib/python3.7/dist-packages (from vaderSentiment) (2.23.0)\n",
            "Requirement already satisfied: certifi>=2017.4.17 in /usr/local/lib/python3.7/dist-packages (from requests->vaderSentiment) (2021.10.8)\n",
            "Requirement already satisfied: chardet<4,>=3.0.2 in /usr/local/lib/python3.7/dist-packages (from requests->vaderSentiment) (3.0.4)\n",
            "Requirement already satisfied: idna<3,>=2.5 in /usr/local/lib/python3.7/dist-packages (from requests->vaderSentiment) (2.10)\n",
            "Requirement already satisfied: urllib3!=1.25.0,!=1.25.1,<1.26,>=1.21.1 in /usr/local/lib/python3.7/dist-packages (from requests->vaderSentiment) (1.24.3)\n"
          ]
        }
      ]
    },
    {
      "cell_type": "code",
      "source": [
        "import pandas as pd\n",
        "import numpy as np\n",
        "from textblob import TextBlob\n",
        "import re\n",
        "import nltk\n",
        "from vaderSentiment.vaderSentiment import SentimentIntensityAnalyzer"
      ],
      "metadata": {
        "id": "VW9PT5d6ddYG"
      },
      "execution_count": null,
      "outputs": []
    },
    {
      "cell_type": "markdown",
      "source": [
        "Splitting data into training and testing dataset"
      ],
      "metadata": {
        "id": "MebPwgtgeGru"
      }
    },
    {
      "cell_type": "code",
      "source": [
        "x=df3.drop('Date',axis=1)\n",
        "y=df3['Date']"
      ],
      "metadata": {
        "id": "nEgDAu0Gd7H5"
      },
      "execution_count": null,
      "outputs": []
    },
    {
      "cell_type": "code",
      "source": [
        "y.value_counts()"
      ],
      "metadata": {
        "id": "FamxIes995Up"
      },
      "execution_count": null,
      "outputs": []
    },
    {
      "cell_type": "code",
      "source": [
        "x.shape"
      ],
      "metadata": {
        "id": "7JMnC-DS988b"
      },
      "execution_count": null,
      "outputs": []
    },
    {
      "cell_type": "code",
      "source": [
        "y.shape"
      ],
      "metadata": {
        "id": "wh8tDkDy-Bz8"
      },
      "execution_count": null,
      "outputs": []
    },
    {
      "cell_type": "code",
      "source": [
        "x.head()"
      ],
      "metadata": {
        "id": "K3gP9D4--hIF"
      },
      "execution_count": null,
      "outputs": []
    },
    {
      "cell_type": "code",
      "source": [
        "y.head()"
      ],
      "metadata": {
        "id": "wlyaWYKw-cuN"
      },
      "execution_count": null,
      "outputs": []
    },
    {
      "cell_type": "markdown",
      "source": [
        "SVM method"
      ],
      "metadata": {
        "id": "SW9YPLCkfdLT"
      }
    },
    {
      "cell_type": "code",
      "source": [
        "from sklearn.model_selection import train_test_split"
      ],
      "metadata": {
        "id": "_28vaqC6faxw"
      },
      "execution_count": null,
      "outputs": []
    },
    {
      "cell_type": "code",
      "source": [
        "x_train,x_test,y_train,y_test=train_test_split(x,y,test_size=0.2,random_state=0)"
      ],
      "metadata": {
        "id": "M_kryF_Tfkqc"
      },
      "execution_count": null,
      "outputs": []
    },
    {
      "cell_type": "code",
      "source": [
        "from sklearn.svm import SVC\n",
        "svclassifier=SVC(kernel='poly',degree=3,class_weight='balanced')\n",
        "svclassifier.fit(x_train,y_train)"
      ],
      "metadata": {
        "id": "r_FkUsxT-V1q"
      },
      "execution_count": null,
      "outputs": []
    },
    {
      "cell_type": "code",
      "source": [
        "y_pred=svclassifier.predict(x_test)"
      ],
      "metadata": {
        "id": "6wfbdpMKgOlq"
      },
      "execution_count": null,
      "outputs": []
    },
    {
      "cell_type": "code",
      "source": [
        "from sklearn.metrics import classification_report,confusion_matrix\n",
        "print(confusion_matrix(y_test,y_pred))"
      ],
      "metadata": {
        "id": "d5QJroFm-NP8"
      },
      "execution_count": null,
      "outputs": []
    },
    {
      "cell_type": "code",
      "source": [
        "print(classification_report(y_test,y_pred))"
      ],
      "metadata": {
        "id": "l5ZQYRyA-JOP"
      },
      "execution_count": null,
      "outputs": []
    },
    {
      "cell_type": "code",
      "source": [
        ""
      ],
      "metadata": {
        "id": "aUWU1dCFgpBv"
      },
      "execution_count": null,
      "outputs": []
    }
  ]
}